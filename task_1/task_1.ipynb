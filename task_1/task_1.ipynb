{
 "cells": [
  {
   "cell_type": "code",
   "execution_count": 2,
   "id": "ca62ace3-9b05-45b6-8111-bbda5691eea6",
   "metadata": {},
   "outputs": [
    {
     "name": "stdout",
     "output_type": "stream",
     "text": [
      "5\n"
     ]
    }
   ],
   "source": [
    "def count_words(input_string):\n",
    "    # Разделение строки на слова\n",
    "    words = input_string.split()\n",
    "    # Подсчет количества слов\n",
    "    num_words = len(words)\n",
    "    return num_words\n",
    "\n",
    "# Пример использования\n",
    "example_string = \"Привет, я Саша, как дела?\"\n",
    "print(count_words(example_string))  # Вывод\n"
   ]
  },
  {
   "cell_type": "code",
   "execution_count": null,
   "id": "da1ecf9d-e69b-4092-81cc-1f9dd51c0a5c",
   "metadata": {},
   "outputs": [],
   "source": []
  }
 ],
 "metadata": {
  "kernelspec": {
   "display_name": "Python 3 (ipykernel)",
   "language": "python",
   "name": "python3"
  },
  "language_info": {
   "codemirror_mode": {
    "name": "ipython",
    "version": 3
   },
   "file_extension": ".py",
   "mimetype": "text/x-python",
   "name": "python",
   "nbconvert_exporter": "python",
   "pygments_lexer": "ipython3",
   "version": "3.11.7"
  }
 },
 "nbformat": 4,
 "nbformat_minor": 5
}
