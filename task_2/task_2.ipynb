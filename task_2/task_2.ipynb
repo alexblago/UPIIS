{
 "cells": [
  {
   "cell_type": "code",
   "execution_count": 1,
   "id": "5d57e42f-4d69-49a0-a3a5-92e91ffe2f13",
   "metadata": {},
   "outputs": [
    {
     "name": "stdout",
     "output_type": "stream",
     "text": [
      "Самый младший студент: Петр Петров, Дата рождения: 2001-03-30\n",
      "Самый старший студент: Анна Смирнова, Дата рождения: 1999-08-22\n"
     ]
    }
   ],
   "source": [
    "from datetime import datetime\n",
    "\n",
    "# Структура данных для хранения информации о студенте\n",
    "class Student:\n",
    "    def __init__(self, first_name, last_name, birth_date, subjects):\n",
    "        self.first_name = first_name\n",
    "        self.last_name = last_name\n",
    "        self.birth_date = birth_date\n",
    "        self.subjects = subjects\n",
    "\n",
    "    def full_name(self):\n",
    "        return f\"{self.first_name} {self.last_name}\"\n",
    "\n",
    "# Функция для добавления студента\n",
    "def add_student(students, first_name, last_name, birth_date, subjects):\n",
    "    student = Student(first_name, last_name, birth_date, subjects)\n",
    "    students.append(student)\n",
    "\n",
    "# Функция для поиска самого младшего и самого старшего студента\n",
    "def find_youngest_and_oldest(students):\n",
    "    if not students:\n",
    "        return None, None\n",
    "\n",
    "    youngest = oldest = students[0]\n",
    "    for student in students[1:]:\n",
    "        if student.birth_date > youngest.birth_date:\n",
    "            youngest = student\n",
    "        if student.birth_date < oldest.birth_date:\n",
    "            oldest = student\n",
    "\n",
    "    return youngest, oldest\n",
    "\n",
    "# Создание списка студентов\n",
    "students = []\n",
    "\n",
    "# Добавление студентов (пример)\n",
    "add_student(students, \"Иван\", \"Иванов\", datetime(2000, 5, 15), [\n",
    "    {\"subject\": \"Математика\", \"exam_date\": datetime(2020, 5, 15), \"teacher\": \"Петров Петр Петрович\"},\n",
    "    {\"subject\": \"Физика\", \"exam_date\": datetime(2020, 6, 15), \"teacher\": \"Сидоров Сидор Сидорович\"}\n",
    "])\n",
    "\n",
    "add_student(students, \"Анна\", \"Смирнова\", datetime(1999, 8, 22), [\n",
    "    {\"subject\": \"История\", \"exam_date\": datetime(2020, 5, 20), \"teacher\": \"Иванов Иван Иванович\"},\n",
    "    {\"subject\": \"Химия\", \"exam_date\": datetime(2020, 7, 25), \"teacher\": \"Алексеева Алла Алексеевна\"}\n",
    "])\n",
    "\n",
    "add_student(students, \"Петр\", \"Петров\", datetime(2001, 3, 30), [\n",
    "    {\"subject\": \"Литература\", \"exam_date\": datetime(2020, 5, 15), \"teacher\": \"Борисова Борислава Борисовна\"},\n",
    "    {\"subject\": \"География\", \"exam_date\": datetime(2020, 6, 10), \"teacher\": \"Егоров Егор Егорович\"}\n",
    "])\n",
    "\n",
    "# Поиск самого младшего и самого старшего студента\n",
    "youngest, oldest = find_youngest_and_oldest(students)\n",
    "\n",
    "# Вывод результата\n",
    "if youngest and oldest:\n",
    "    print(f\"Самый младший студент: {youngest.full_name()}, Дата рождения: {youngest.birth_date.strftime('%Y-%m-%d')}\")\n",
    "    print(f\"Самый старший студент: {oldest.full_name()}, Дата рождения: {oldest.birth_date.strftime('%Y-%m-%d')}\")\n",
    "else:\n",
    "    print(\"Список студентов пуст.\")\n"
   ]
  },
  {
   "cell_type": "code",
   "execution_count": null,
   "id": "ba697a38-d8e8-405f-b738-c122472fa4d2",
   "metadata": {},
   "outputs": [],
   "source": []
  }
 ],
 "metadata": {
  "kernelspec": {
   "display_name": "Python 3 (ipykernel)",
   "language": "python",
   "name": "python3"
  },
  "language_info": {
   "codemirror_mode": {
    "name": "ipython",
    "version": 3
   },
   "file_extension": ".py",
   "mimetype": "text/x-python",
   "name": "python",
   "nbconvert_exporter": "python",
   "pygments_lexer": "ipython3",
   "version": "3.11.7"
  }
 },
 "nbformat": 4,
 "nbformat_minor": 5
}
